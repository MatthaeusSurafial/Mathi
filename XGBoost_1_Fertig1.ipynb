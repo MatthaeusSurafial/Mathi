{
  "nbformat": 4,
  "nbformat_minor": 0,
  "metadata": {
    "colab": {
      "provenance": [],
      "authorship_tag": "ABX9TyO3QY5PXpLTb0iVj/YMzNWK",
      "include_colab_link": true
    },
    "kernelspec": {
      "name": "python3",
      "display_name": "Python 3"
    },
    "language_info": {
      "name": "python"
    }
  },
  "cells": [
    {
      "cell_type": "markdown",
      "metadata": {
        "id": "view-in-github",
        "colab_type": "text"
      },
      "source": [
        "<a href=\"https://colab.research.google.com/github/MatthaeusSurafial/Mathi/blob/main/XGBoost_1_Fertig1.ipynb\" target=\"_parent\"><img src=\"https://colab.research.google.com/assets/colab-badge.svg\" alt=\"Open In Colab\"/></a>"
      ]
    },
    {
      "cell_type": "code",
      "execution_count": null,
      "metadata": {
        "id": "JzSPUa845VVm"
      },
      "outputs": [],
      "source": [
        "import seaborn as sns\n",
        "import pandas as pd\n",
        "from sklearn.model_selection import train_test_split\n",
        "from sklearn.feature_extraction.text import TfidfVectorizer\n",
        "import xgboost as xgb\n",
        "from sklearn.metrics import accuracy_score, classification_report\n",
        "\n",
        "true = pd.read_csv('/content/true.csv.zip')\n",
        "fake = pd.read_csv('/content/fake.csv.zip')\n",
        "\n",
        "true['target'] = 0\n",
        "fake['target'] = 1\n",
        "\n",
        "news = pd.concat([true, fake], axis=0, ignore_index=True)\n",
        "news = news.sample(frac=1).reset_index(drop=True)\n",
        "\n",
        "X = news['text']\n",
        "y = news['target']"
      ]
    },
    {
      "cell_type": "code",
      "source": [
        "#Hier werden die Daten so bearbeitet wie bei Kaggle, erneut für den enstrpechenden Vergleich, jedoch gibt es einen unterschied, hier habe ich das entsprechende Label \"Target\" genannt. Indem aufgezeigt wird was falsch ist und was wahr"
      ],
      "metadata": {
        "id": "2HV0OIVbzxFI"
      },
      "execution_count": null,
      "outputs": []
    },
    {
      "cell_type": "code",
      "source": [
        "# Daten Zerteilen\n",
        "X_train, X_test, y_train, y_test = train_test_split(X, y, test_size=0.3, random_state=42)\n",
        "# Weiter Zerteilen\n",
        "X_train, X_val, y_train, y_val = train_test_split(X_train, y_train, test_size=0.3, random_state=42)"
      ],
      "metadata": {
        "id": "UjyUPReB6cre"
      },
      "execution_count": null,
      "outputs": []
    },
    {
      "cell_type": "code",
      "source": [
        "#Die Selbe zuteilung 70:20:10"
      ],
      "metadata": {
        "id": "Y6-bwBKs0ELH"
      },
      "execution_count": null,
      "outputs": []
    },
    {
      "cell_type": "code",
      "source": [
        "# Vectorize the text using TF-IDF\n",
        "tfidf_vectorizer = TfidfVectorizer(max_df=0.1)\n",
        "tfidf_train = tfidf_vectorizer.fit_transform(X_train)\n",
        "tfidf_val = tfidf_vectorizer.transform(X_val)\n",
        "tfidf_test = tfidf_vectorizer.transform(X_test)"
      ],
      "metadata": {
        "id": "Vzu-HUA76gyG"
      },
      "execution_count": null,
      "outputs": []
    },
    {
      "cell_type": "code",
      "source": [
        "#Der bereitgestellte Code führt die Vektorisierung des Textes mithilfe der TF-IDF-Methode durch. Zuerst wird ein TF-IDF-Vektorisierer mit einem maximalen Dokumentenfrequenzwert von 0.1 initialisiert.\n",
        "#Dann werden die Trainingsdaten X_train mit diesem Vektorisierer transformiert. Das wir sicherstellen das TF-IDF-Matrizen erstellet werden. Gleiches wird für die Testdaten- und Validierungsdaten durchgeführt."
      ],
      "metadata": {
        "id": "n3G9Zm8A0IMp"
      },
      "execution_count": null,
      "outputs": []
    },
    {
      "cell_type": "code",
      "source": [
        "#Denn Klassifizierer modifizeren und trenieren um Overfitting zu verhindern\n",
        "xgb_classifier = xgb.XGBClassifier(\n",
        "max_depth=5, # Limiting tree depth\n",
        "reg_alpha=0.1,\n",
        "reg_lambda=0.1\n",
        ")\n",
        "xgb_classifier.fit(tfidf_train, y_train, eval_set=[(tfidf_val, y_val)], eval_metric='error', early_stopping_rounds=10, verbose=True)\n",
        "# Vorhersage\n",
        "y_pred = xgb_classifier.predict(tfidf_test)\n",
        "# Evaluation\n",
        "accuracy = accuracy_score(y_test, y_pred)\n",
        "print(\"Accuracy:\", accuracy)\n",
        "print(\"\\nClassification Report:\")\n",
        "print(classification_report(y_test, y_pred))"
      ],
      "metadata": {
        "colab": {
          "base_uri": "https://localhost:8080/"
        },
        "id": "edoFMzFp6kkW",
        "outputId": "3352b2aa-02a2-41dc-e4e0-2d3f812771c4"
      },
      "execution_count": null,
      "outputs": [
        {
          "output_type": "stream",
          "name": "stderr",
          "text": [
            "/usr/local/lib/python3.10/dist-packages/xgboost/sklearn.py:889: UserWarning: `eval_metric` in `fit` method is deprecated for better compatibility with scikit-learn, use `eval_metric` in constructor or`set_params` instead.\n",
            "  warnings.warn(\n",
            "/usr/local/lib/python3.10/dist-packages/xgboost/sklearn.py:889: UserWarning: `early_stopping_rounds` in `fit` method is deprecated for better compatibility with scikit-learn, use `early_stopping_rounds` in constructor or`set_params` instead.\n",
            "  warnings.warn(\n"
          ]
        },
        {
          "output_type": "stream",
          "name": "stdout",
          "text": [
            "[0]\tvalidation_0-error:0.25570\n",
            "[1]\tvalidation_0-error:0.25549\n",
            "[2]\tvalidation_0-error:0.20755\n",
            "[3]\tvalidation_0-error:0.19589\n",
            "[4]\tvalidation_0-error:0.19376\n",
            "[5]\tvalidation_0-error:0.17011\n",
            "[6]\tvalidation_0-error:0.15463\n",
            "[7]\tvalidation_0-error:0.14158\n",
            "[8]\tvalidation_0-error:0.13968\n",
            "[9]\tvalidation_0-error:0.13140\n",
            "[10]\tvalidation_0-error:0.12854\n",
            "[11]\tvalidation_0-error:0.11995\n",
            "[12]\tvalidation_0-error:0.11740\n",
            "[13]\tvalidation_0-error:0.11401\n",
            "[14]\tvalidation_0-error:0.11072\n",
            "[15]\tvalidation_0-error:0.11051\n",
            "[16]\tvalidation_0-error:0.10775\n",
            "[17]\tvalidation_0-error:0.10743\n",
            "[18]\tvalidation_0-error:0.10266\n",
            "[19]\tvalidation_0-error:0.10150\n",
            "[20]\tvalidation_0-error:0.09853\n",
            "[21]\tvalidation_0-error:0.09715\n",
            "[22]\tvalidation_0-error:0.09513\n",
            "[23]\tvalidation_0-error:0.09397\n",
            "[24]\tvalidation_0-error:0.09174\n",
            "[25]\tvalidation_0-error:0.08972\n",
            "[26]\tvalidation_0-error:0.08792\n",
            "[27]\tvalidation_0-error:0.08813\n",
            "[28]\tvalidation_0-error:0.08792\n",
            "[29]\tvalidation_0-error:0.08601\n",
            "[30]\tvalidation_0-error:0.08431\n",
            "[31]\tvalidation_0-error:0.08166\n",
            "[32]\tvalidation_0-error:0.08050\n",
            "[33]\tvalidation_0-error:0.08028\n",
            "[34]\tvalidation_0-error:0.07975\n",
            "[35]\tvalidation_0-error:0.07689\n",
            "[36]\tvalidation_0-error:0.07721\n",
            "[37]\tvalidation_0-error:0.07519\n",
            "[38]\tvalidation_0-error:0.07456\n",
            "[39]\tvalidation_0-error:0.07371\n",
            "[40]\tvalidation_0-error:0.05122\n",
            "[41]\tvalidation_0-error:0.05038\n",
            "[42]\tvalidation_0-error:0.04995\n",
            "[43]\tvalidation_0-error:0.04942\n",
            "[44]\tvalidation_0-error:0.04942\n",
            "[45]\tvalidation_0-error:0.04804\n",
            "[46]\tvalidation_0-error:0.04847\n",
            "[47]\tvalidation_0-error:0.04730\n",
            "[48]\tvalidation_0-error:0.04624\n",
            "[49]\tvalidation_0-error:0.04497\n",
            "[50]\tvalidation_0-error:0.04444\n",
            "[51]\tvalidation_0-error:0.04486\n",
            "[52]\tvalidation_0-error:0.04380\n",
            "[53]\tvalidation_0-error:0.04348\n",
            "[54]\tvalidation_0-error:0.04306\n",
            "[55]\tvalidation_0-error:0.04253\n",
            "[56]\tvalidation_0-error:0.04189\n",
            "[57]\tvalidation_0-error:0.04179\n",
            "[58]\tvalidation_0-error:0.04200\n",
            "[59]\tvalidation_0-error:0.04136\n",
            "[60]\tvalidation_0-error:0.04126\n",
            "[61]\tvalidation_0-error:0.04041\n",
            "[62]\tvalidation_0-error:0.04051\n",
            "[63]\tvalidation_0-error:0.04020\n",
            "[64]\tvalidation_0-error:0.04041\n",
            "[65]\tvalidation_0-error:0.04094\n",
            "[66]\tvalidation_0-error:0.04041\n",
            "[67]\tvalidation_0-error:0.03924\n",
            "[68]\tvalidation_0-error:0.03882\n",
            "[69]\tvalidation_0-error:0.04041\n",
            "[70]\tvalidation_0-error:0.03977\n",
            "[71]\tvalidation_0-error:0.03966\n",
            "[72]\tvalidation_0-error:0.03998\n",
            "[73]\tvalidation_0-error:0.04020\n",
            "[74]\tvalidation_0-error:0.03913\n",
            "[75]\tvalidation_0-error:0.03913\n",
            "[76]\tvalidation_0-error:0.03871\n",
            "[77]\tvalidation_0-error:0.03882\n",
            "[78]\tvalidation_0-error:0.03818\n",
            "[79]\tvalidation_0-error:0.03786\n",
            "[80]\tvalidation_0-error:0.03723\n",
            "[81]\tvalidation_0-error:0.03648\n",
            "[82]\tvalidation_0-error:0.03595\n",
            "[83]\tvalidation_0-error:0.03617\n",
            "[84]\tvalidation_0-error:0.03606\n",
            "[85]\tvalidation_0-error:0.03627\n",
            "[86]\tvalidation_0-error:0.03617\n",
            "[87]\tvalidation_0-error:0.03670\n",
            "[88]\tvalidation_0-error:0.03627\n",
            "[89]\tvalidation_0-error:0.03606\n",
            "[90]\tvalidation_0-error:0.03691\n",
            "[91]\tvalidation_0-error:0.03701\n",
            "[92]\tvalidation_0-error:0.03648\n",
            "Accuracy: 0.9623608017817372\n",
            "\n",
            "Classification Report:\n",
            "              precision    recall  f1-score   support\n",
            "\n",
            "           0       0.96      0.96      0.96      6384\n",
            "           1       0.96      0.96      0.96      7086\n",
            "\n",
            "    accuracy                           0.96     13470\n",
            "   macro avg       0.96      0.96      0.96     13470\n",
            "weighted avg       0.96      0.96      0.96     13470\n",
            "\n"
          ]
        }
      ]
    },
    {
      "cell_type": "code",
      "source": [
        "#Die bereitgestellten Zeilen zeigen die Validierungsfehler für jede Epoche während des Trainings eines XGBoost-Modells. Der Fehler wird als Anteil falsch klassifizierter Instanzen angegeben.\n",
        "#Die Werte zeigen eine Verbesserung des Validierungsfehlers im Laufe der Epochen, was darauf hindeutet, dass das Modell während des Trainings besser wird. Was ein indiz dafür ist dass das Modell, funktioniert"
      ],
      "metadata": {
        "id": "QnwyJtUG0rM3"
      },
      "execution_count": null,
      "outputs": []
    },
    {
      "cell_type": "code",
      "source": [
        "from sklearn.metrics import confusion_matrix, ConfusionMatrixDisplay\n",
        "import matplotlib.pyplot as plt\n",
        "#confusion matrix\n",
        "cm = confusion_matrix(y_test, y_pred)\n",
        "# visualisation the confusion matrix\n",
        "disp = ConfusionMatrixDisplay(confusion_matrix=cm, display_labels=xgb_classifier.classes_)\n",
        "disp.plot(cmap=plt.cm.Blues)\n",
        "plt.title('Confusion Matrix - Test Set')\n",
        "plt.show()\n"
      ],
      "metadata": {
        "colab": {
          "base_uri": "https://localhost:8080/",
          "height": 472
        },
        "id": "pALbAvb_6vBH",
        "outputId": "660ed34b-75d3-4e1e-d7fb-feeae629d93a"
      },
      "execution_count": null,
      "outputs": [
        {
          "output_type": "display_data",
          "data": {
            "text/plain": [
              "<Figure size 640x480 with 2 Axes>"
            ],
            "image/png": "[encoded data removed]"
          },
          "metadata": {}
        }
      ]
    },
    {
      "cell_type": "code",
      "source": [
        "from sklearn.metrics import confusion_matrix\n",
        "import seaborn as sns\n",
        "import matplotlib.pyplot as plt\n",
        "\n",
        "# Vorhersage on validation dataset\n",
        "y_pred_val = xgb_classifier.predict(tfidf_val)\n",
        "\n",
        "# Erhalten der Confusion matrix für Validierunsdatensatz\n",
        "conf_matrix_val = confusion_matrix(y_val, y_pred_val)\n",
        "\n",
        "#  F1 score\n",
        "tn, fp, fn, tp = conf_matrix_val.ravel()\n",
        "f1_score = tp / (tp + 0.5 * (fn + fp))\n",
        "\n",
        "# Visualisiserung Confusion matrix für Validierungsdatensatz\n",
        "plt.figure(figsize=(8, 6))\n",
        "sns.heatmap(conf_matrix_val, annot=True, fmt=\"d\", cmap=\"Blues\",\n",
        "            xticklabels=[\"True\", \"Fake\"],\n",
        "            yticklabels=[\"True\", \"Fake\"])\n",
        "plt.xlabel('Predicted')\n",
        "plt.ylabel('Actual')\n",
        "plt.title('Confusion Matrix for Validation Dataset\\nF1 Score: {:.4f}'.format(f1_score))\n",
        "plt.show()\n",
        "\n",
        "print(\"F1 Score for Validation Dataset:\", f1_score)"
      ],
      "metadata": {
        "colab": {
          "base_uri": "https://localhost:8080/",
          "height": 602
        },
        "id": "DgqO5vdWElE5",
        "outputId": "6c7b0eb8-266e-4591-b810-bfb8530b8c44"
      },
      "execution_count": null,
      "outputs": [
        {
          "output_type": "display_data",
          "data": {
            "text/plain": [
              "<Figure size 800x600 with 2 Axes>"
            ],
            "image/png": "[encoded data removed]"
          },
          "metadata": {}
        },
        {
          "output_type": "stream",
          "name": "stdout",
          "text": [
            "F1 Score for Validation Dataset: 0.9656986744915511\n"
          ]
        }
      ]
    },
    {
      "cell_type": "code",
      "source": [
        "from sklearn.metrics import classification_report\n",
        "# Generiere Klassifikationsbericht für das Validierungsdatenset\n",
        "class_report_val = classification_report(y_val, y_pred_val, target_names=[\"True\", \"Fake\"])\n",
        "# Zeige den Klassifikationsbericht\n",
        "print(\"Klassifikationsbericht für das Validierungsdatenset:\")\n",
        "print(class_report_val)"
      ],
      "metadata": {
        "colab": {
          "base_uri": "https://localhost:8080/"
        },
        "id": "LjbGoi5nFB0x",
        "outputId": "0e9f228d-9ad5-4585-a59d-b8b18ed9725b"
      },
      "execution_count": null,
      "outputs": [
        {
          "output_type": "stream",
          "name": "stdout",
          "text": [
            "Klassifikationsbericht für das Validierungsdatenset:\n",
            "              precision    recall  f1-score   support\n",
            "\n",
            "        True       0.96      0.96      0.96      4482\n",
            "        Fake       0.97      0.96      0.97      4947\n",
            "\n",
            "    accuracy                           0.96      9429\n",
            "   macro avg       0.96      0.96      0.96      9429\n",
            "weighted avg       0.96      0.96      0.96      9429\n",
            "\n"
          ]
        }
      ]
    },
    {
      "cell_type": "code",
      "source": [
        "#Auch hier werden dann die entsprechenden Metriken berechnet und wiedergegeben mithilfe einer Confusion Matrix und einem Klassifizerungsbericht"
      ],
      "metadata": {
        "id": "uv7iJhF2029v"
      },
      "execution_count": null,
      "outputs": []
    }
  ]
}